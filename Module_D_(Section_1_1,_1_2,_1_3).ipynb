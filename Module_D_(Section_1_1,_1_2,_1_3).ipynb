{
  "nbformat": 4,
  "nbformat_minor": 0,
  "metadata": {
    "colab": {
      "name": "Module D (Section 1.1, 1.2, 1.3)",
      "provenance": []
    },
    "kernelspec": {
      "name": "python3",
      "display_name": "Python 3"
    },
    "language_info": {
      "name": "python"
    }
  },
  "cells": [
    {
      "cell_type": "code",
      "execution_count": 21,
      "metadata": {
        "colab": {
          "base_uri": "https://localhost:8080/"
        },
        "id": "9fD_QT9Jlfuu",
        "outputId": "6dc28aa6-2a2a-4c4a-cba9-370714519a7b"
      },
      "outputs": [
        {
          "output_type": "stream",
          "name": "stdout",
          "text": [
            "A : \n",
            " [[3 1]\n",
            " [2 0]]\n",
            "Eigenvalues : [ 3.56155281 -0.56155281]\n",
            "First tuple of eigen:  [ 3.56155281 -0.56155281]\n",
            "Second tuple of eigen:  [[ 0.87192821 -0.27032301]\n",
            " [ 0.48963374  0.96276969]]\n",
            " \n",
            "[[ 0.42220033 -0.11777028 -0.8988198 ]\n",
            " [ 0.80218063  0.51033789  0.30993786]\n",
            " [ 0.42220033 -0.8518717   0.30993786]] [[ 2.36854386  2.02656159  1.64658129]\n",
            " [ 0.         -1.22598863 -0.4593041 ]\n",
            " [ 0.          0.         -0.27894408]]\n",
            "\n",
            "The two vectors are orthongonal.\n"
          ]
        }
      ],
      "source": [
        "# eigenvalue and eigenvector example\n",
        "\n",
        "import numpy as np \n",
        "\n",
        "A = np.mat(\"3 1; 2 0\")\n",
        "print (\"A : \\n\",A)\n",
        "\n",
        "print(\"Eigenvalues :\",np.linalg.eigvals(A))\n",
        "\n",
        "eigenvalue,eigenvector = np.linalg.eig(A)\n",
        "\n",
        "print(\"First tuple of eigen: \",eigenvalue)\n",
        "print(\"Second tuple of eigen: \",eigenvector)\n",
        "print(' ')\n",
        "\n",
        "# Gram-Schmidt QR decompostion example\n",
        "\n",
        "import numpy as np \n",
        "from scipy.linalg import qr\n",
        "\n",
        "def QR_Decomposition(B):\n",
        "  n, m = B.shape\n",
        "  Q = np.empty((n, n))\n",
        "  u = np.empty((m, n))\n",
        "\n",
        "  u[:, 0] = B[:, 0]\n",
        "  Q[:, 0] = u[:, 0] / np.linalg.norm(u[:, 0])\n",
        "\n",
        "  for i in range(1, n):\n",
        "    u[:, i] = B[:, i]\n",
        "    for j in range(i):\n",
        "      u[:, i] -= (B[:, i] @ Q[:, j]) * Q[:, j]\n",
        "    Q[:, i] = u[:, i] / np.linalg.norm(u[:, i])\n",
        "  R = np.zeros((n, m))\n",
        "  for i in range(n):\n",
        "    for j in range(i, m):\n",
        "      R[i, j] = B[:, j] @ Q[:, i]\n",
        "  return Q, R\n",
        "\n",
        "def diag_sign(B):\n",
        "  D = np.diag(np.sign(np.diag(B)))\n",
        "  return D\n",
        "\n",
        "def adjust_sign(Q, R):\n",
        "  D = diag_sign(Q)\n",
        "  Q[:, :] = Q @ D\n",
        "  R[:, :] = D @ R\n",
        "  return Q, R\n",
        "\n",
        "B = np.array([[1.0, 1.0, 1.0], [1.9, 1.0, 1.0], [1.0, 1.9, 1.0]])\n",
        "Q, R = adjust_sign(*QR_Decomposition(B))\n",
        "print(Q, R)\n",
        "print('')\n",
        "\n",
        "# Orthogonality example\n",
        "\n",
        "import numpy as np\n",
        "import matplotlib.pyplot as plt\n",
        "from mpl_toolkits.mplot3d import Axes3D\n",
        "\n",
        "vector1 = np.array([1, -2, 4])\n",
        "vector2 = np.array([2, 5, 2])\n",
        "dot_product = np.sum(vector1 * vector2)\n",
        "\n",
        "if dot_product == 0:\n",
        "  print(\"The two vectors are orthongonal.\")\n",
        "\n",
        "else:\n",
        "  print(\"The two vectors are not orthongonal.\")\n",
        "\n",
        "\n",
        "\n",
        " \n",
        "\n"
      ]
    },
    {
      "cell_type": "code",
      "source": [
        ""
      ],
      "metadata": {
        "id": "Blp8zOUZIOh4"
      },
      "execution_count": null,
      "outputs": []
    }
  ]
}