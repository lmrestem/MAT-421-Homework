{
  "nbformat": 4,
  "nbformat_minor": 0,
  "metadata": {
    "colab": {
      "name": "Module G (Section 21.4, 21.5)",
      "provenance": []
    },
    "kernelspec": {
      "name": "python3",
      "display_name": "Python 3"
    },
    "language_info": {
      "name": "python"
    }
  },
  "cells": [
    {
      "cell_type": "code",
      "execution_count": 16,
      "metadata": {
        "colab": {
          "base_uri": "https://localhost:8080/"
        },
        "id": "vaPBPNMCWdbM",
        "outputId": "216496b4-e968-433a-e28f-d9739478d47a"
      },
      "outputs": [
        {
          "output_type": "stream",
          "name": "stdout",
          "text": [
            "Using Simpson's Rule\n",
            "2.0\n",
            "\n",
            "Using integrate.quad\n"
          ]
        },
        {
          "output_type": "execute_result",
          "data": {
            "text/plain": [
              "(2.5066268375731307, 2.172825780411003e-09)"
            ]
          },
          "metadata": {},
          "execution_count": 16
        }
      ],
      "source": [
        "# Simpson's Rule example\n",
        "import scipy.integrate as integrate\n",
        "import numpy as np\n",
        "from scipy.integrate import simps, romb\n",
        "\n",
        "a = 0.0\n",
        "b = 2.0\n",
        "n = 1000\n",
        "h = (b - a) / n\n",
        "x = np.linspace(a, b, n)\n",
        "y = x\n",
        "sim = simps(y, x)\n",
        "\n",
        "print(\"Using Simpson's Rule\")\n",
        "print(sim)\n",
        "print('')\n",
        "\n",
        "# integrating a random function example\n",
        "np.random.seed(40)\n",
        "\n",
        "def gaussian(x, mu, sigma):\n",
        "  return np.exp((-1 * (x - mu) ** 2) / (2 * sigma ** 2))\n",
        "\n",
        "mu = 0\n",
        "sigma = 1\n",
        "a = -5\n",
        "b = 5\n",
        "x_range = np.linspace(-5, 5, 200)\n",
        "y = gaussian(x_range, mu, sigma)\n",
        "print('Using integrate.quad')\n",
        "integrate.quad(lambda x: np.exp((-1 * (x - mu) ** 2) / (2 * sigma ** 2)), a , b)\n"
      ]
    }
  ]
}