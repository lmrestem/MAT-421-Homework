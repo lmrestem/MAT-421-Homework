{
  "nbformat": 4,
  "nbformat_minor": 0,
  "metadata": {
    "colab": {
      "name": "Module E (Section 3.2, 3.3)",
      "provenance": []
    },
    "kernelspec": {
      "name": "python3",
      "display_name": "Python 3"
    },
    "language_info": {
      "name": "python"
    }
  },
  "cells": [
    {
      "cell_type": "code",
      "execution_count": 15,
      "metadata": {
        "colab": {
          "base_uri": "https://localhost:8080/",
          "height": 748
        },
        "id": "k6lGRg8c2Zrk",
        "outputId": "df186c2d-9cdd-4b5f-8069-76166e779262"
      },
      "outputs": [
        {
          "output_type": "display_data",
          "data": {
            "image/png": "[encoded data removed]",
            "text/plain": [
              "<Figure size 720x360 with 1 Axes>"
            ]
          },
          "metadata": {
            "needs_background": "light"
          }
        },
        {
          "output_type": "stream",
          "name": "stdout",
          "text": [
            "1.9999999999998352\n",
            "\n",
            "\n",
            "Iteration 1 \n",
            "X value is 1.8599999999999999\n",
            "Iteration 2 \n",
            "X value is 1.7227999999999999\n",
            "Iteration 3 \n",
            "X value is 1.588344\n",
            "Iteration 4 \n",
            "X value is 1.45657712\n",
            "Iteration 5 \n",
            "X value is 1.3274455775999998\n",
            "Iteration 6 \n",
            "X value is 1.2008966660479998\n",
            "Iteration 7 \n",
            "X value is 1.0768787327270397\n",
            "Iteration 8 \n",
            "X value is 0.9553411580724989\n",
            "Iteration 9 \n",
            "X value is 0.8362343349110489\n",
            "Iteration 10 \n",
            "X value is 0.7195096482128279\n",
            "The local minimum occurs at 0.7195096482128279\n"
          ]
        }
      ],
      "source": [
        "# plotting equation and finding derivative example\n",
        "\n",
        "import numpy as np\n",
        "import matplotlib.pyplot as plt\n",
        "\n",
        "def f(x):\n",
        "  return x * x\n",
        "\n",
        "x = np.arange(0, 4, 0.01)\n",
        "y = f(x)\n",
        "\n",
        "plt.figure(figsize = (10, 5))\n",
        "plt.plot(x, y, 'b')\n",
        "plt.grid(axis = 'both')\n",
        "plt.show()\n",
        "\n",
        "from scipy.misc import derivative\n",
        "\n",
        "d = derivative (f, 1.0, dx = 1e-3)\n",
        "\n",
        "print(d)\n",
        "print('')\n",
        "print('')\n",
        "\n",
        "\n",
        "# gradient descent example\n",
        "\n",
        "intial = 2\n",
        "rate = 0.01\n",
        "complete = 0.01\n",
        "last_step_size = 1\n",
        "max_iterations = 10\n",
        "iterations = 0 \n",
        "gradient = lambda x: 2 * (x + 5)\n",
        "\n",
        "while last_step_size > complete and iterations < max_iterations:\n",
        "  last_x = intial \n",
        "  intial = intial - rate * gradient(last_x)\n",
        "  last_step_size = abs(intial - last_x)\n",
        "  iterations = iterations + 1 \n",
        "  print(\"Iteration\", iterations, \"\\nX value is\", intial)\n",
        "\n",
        "print(\"The local minimum occurs at\", intial)\n",
        "    \n",
        "    "
      ]
    }
  ]
}