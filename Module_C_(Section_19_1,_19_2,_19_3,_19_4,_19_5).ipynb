{
  "nbformat": 4,
  "nbformat_minor": 0,
  "metadata": {
    "colab": {
      "name": "Module C (Section 19.1, 19.2, 19.3, 19.4, 19.5)",
      "provenance": [],
      "history_visible": true
    },
    "kernelspec": {
      "name": "python3",
      "display_name": "Python 3"
    },
    "language_info": {
      "name": "python"
    }
  },
  "cells": [
    {
      "cell_type": "code",
      "execution_count": null,
      "metadata": {
        "colab": {
          "base_uri": "https://localhost:8080/"
        },
        "id": "GXSaJq1Xye7M",
        "outputId": "665b2379-5509-4b04-a2ee-2aecb1ebbb5c"
      },
      "outputs": [
        {
          "output_type": "stream",
          "name": "stdout",
          "text": [
            "Solution found\n",
            "The 1 iteration is -3.0 and f(x_n) is  1.6e+01\n",
            "The 2 iteration is -1.4 and f(x_n) is  2.6\n",
            "The 3 iteration is -1.0 and f(x_n) is  0.14\n",
            "The 4 iteration is -1.0 and f(x_n) is  0.00055\n",
            "The 5 iteration is -1.0 and f(x_n) is  8.4e-09\n",
            "The 6 iteration is -1.0 and f(x_n) is  9.5e-125\n",
            "The 7 iteration is -1.0 and f(x_n) is  9.5e-125\n",
            "The 8 iteration is -1.0 and f(x_n) is  9.5e-125\n",
            "The 9 iteration is -1.0 and f(x_n) is  9.5e-125\n",
            "The 10 iteration is -1.0 and f(x_n) is  9.5e-125\n"
          ]
        }
      ],
      "source": [
        "# bisection example\n",
        "def bisection(f, a, b, N):\n",
        "\n",
        "  # N is the number of iterations \n",
        "\n",
        "  if f(a) * f(b) >= 0:\n",
        "    print(\"Method fails\")\n",
        "    return None\n",
        "    # a soltuion is not guaranteed\n",
        "\n",
        "  a_n = a \n",
        "  b_n = b \n",
        "  for n in range(1, N + 1):\n",
        "    m = (a_n + b_n) / 2\n",
        "    if f(a_n) * f(m) < 0: \n",
        "      a_n = a_n\n",
        "      b_n = m \n",
        "    elif f(b_n) * f(m) < 0:\n",
        "      a_n = m\n",
        "      b_n = b_n\n",
        "    elif f(m) == 0:\n",
        "      print(\"Solution found\")\n",
        "      return m \n",
        "    else:\n",
        "      print(\"Method fails\")\n",
        "      return None \n",
        "  return (a_n + b_n)/2\n",
        "\n",
        "f = lambda x : ((2 * x) - 1) * (x - 3)\n",
        "bisection(f, 0, 1, 10)\n",
        "\n",
        "# Newton-Raphson example\n",
        "import numpy as np \n",
        "from sympy import *\n",
        "\n",
        "x = symbols('x')\n",
        "f = x**2-4*x-5 \n",
        "fderivative = f.diff(x)\n",
        "fderivative\n",
        "x_n = 1 \n",
        "for i in range (10):\n",
        "  x_n = x_n - np.float(f.evalf(subs = {x: x_n})) / np.float(fderivative.evalf(subs = {x: x_n}))\n",
        "  print(f'The {i + 1} iteration is {x_n: .2} and f(x_n) is {np.float(f.evalf(subs = {x: x_n})) : .2}')\n"
      ]
    }
  ]
}