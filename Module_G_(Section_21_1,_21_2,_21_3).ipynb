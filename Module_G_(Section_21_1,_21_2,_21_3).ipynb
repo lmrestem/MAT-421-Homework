{
  "nbformat": 4,
  "nbformat_minor": 0,
  "metadata": {
    "colab": {
      "name": "Module G (Section 21.1, 21.2, 21.3)",
      "provenance": []
    },
    "kernelspec": {
      "name": "python3",
      "display_name": "Python 3"
    },
    "language_info": {
      "name": "python"
    }
  },
  "cells": [
    {
      "cell_type": "code",
      "execution_count": 26,
      "metadata": {
        "colab": {
          "base_uri": "https://localhost:8080/",
          "height": 689
        },
        "id": "rdRm6sHNYPYi",
        "outputId": "bc58ec68-33cd-4108-af32-2a71ad7e31c7"
      },
      "outputs": [
        {
          "output_type": "stream",
          "name": "stdout",
          "text": [
            "Left Riemann Sum:  254.62962962962968\n"
          ]
        },
        {
          "output_type": "display_data",
          "data": {
            "text/plain": [
              "<Figure size 1080x360 with 1 Axes>"
            ],
            "image/png": "[encoded data removed]"
          },
          "metadata": {
            "needs_background": "light"
          }
        },
        {
          "output_type": "stream",
          "name": "stdout",
          "text": [
            "\n",
            "Right Riemann Sum:  421.29629629629636\n"
          ]
        },
        {
          "output_type": "display_data",
          "data": {
            "text/plain": [
              "<Figure size 432x288 with 1 Axes>"
            ],
            "image/png": "[encoded data removed]"
          },
          "metadata": {
            "needs_background": "light"
          }
        },
        {
          "output_type": "stream",
          "name": "stdout",
          "text": [
            "\n",
            "Using Trapezoid Rule:  50.0\n"
          ]
        }
      ],
      "source": [
        "# riemann sum example\n",
        "import numpy as np \n",
        "import matplotlib.pyplot as plt\n",
        "\n",
        "f = lambda x: x**2\n",
        "a = 0\n",
        "b = 10\n",
        "N = 6\n",
        "n = 10\n",
        "\n",
        "x = np.linspace(a, b, N + 1)\n",
        "y = f(x)\n",
        "\n",
        "X = np.linspace(a, b, n * N + 1)\n",
        "Y = f(X)\n",
        "\n",
        "dx = (b - a) / N\n",
        "x_left = np.linspace(a, b - dx, N)\n",
        "x_mid = np.linspace(dx / 2, b - dx/2, N)\n",
        "x_right = np.linspace(dx, b, N)\n",
        "\n",
        "plt.figure(figsize = (15, 5))\n",
        "\n",
        "plt.subplot(1, 3, 1)\n",
        "plt.plot(X, Y, 'm')\n",
        "left_x = x[:-1]\n",
        "left_y = y[:-1]\n",
        "plt.plot(left_x, left_y, ',', markersize = 15)\n",
        "plt.bar(left_x, left_y, width = (b - a) / N, alpha = 0.25, align = 'edge', edgecolor = 'm')\n",
        "plt.title('Left-end Riemann Sum, N = {}'.format(N))\n",
        "left_riemann = np.sum(f(x_left) * dx)\n",
        "print('Left Riemann Sum: ', left_riemann)\n",
        "plt.show()\n",
        "print('')\n",
        "\n",
        "plt.subplot(1, 3, 3)\n",
        "plt.plot(X, Y, 'm')\n",
        "right_x = x[1:]\n",
        "right_y = y[1:]\n",
        "plt.plot(right_x, right_y, ',', markersize = 15)\n",
        "plt.bar(right_x, right_y, width = (b - a) / N, alpha = 0.25, align = 'edge', edgecolor = 'm')\n",
        "plt.title('Right-end Riemann Sum, N = {}'.format(N))\n",
        "right_riemann = np.sum(f(x_right) * dx)\n",
        "print('Right Riemann Sum: ', right_riemann)\n",
        "plt.show()\n",
        "print('')\n",
        "\n",
        "# trapezoid rule example\n",
        "from scipy.integrate import simps, romb\n",
        "\n",
        "c = 0.0\n",
        "d = 10.0\n",
        "T = 1000\n",
        "h = (b - a) / N\n",
        "w = np.linspace(c, d, T)\n",
        "z = w\n",
        "trap = np.trapz(z, w)\n",
        "print('Using Trapezoid Rule: ', trap)\n"
      ]
    }
  ]
}