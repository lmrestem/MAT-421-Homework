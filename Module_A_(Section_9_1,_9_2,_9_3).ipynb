{
  "nbformat": 4,
  "nbformat_minor": 0,
  "metadata": {
    "colab": {
      "name": "Module A (Section 9.1, 9.2, 9.3)",
      "provenance": []
    },
    "kernelspec": {
      "name": "python3",
      "display_name": "Python 3"
    },
    "language_info": {
      "name": "python"
    }
  },
  "cells": [
    {
      "cell_type": "code",
      "execution_count": 5,
      "metadata": {
        "id": "2H7eywpc4wek",
        "colab": {
          "base_uri": "https://localhost:8080/"
        },
        "outputId": "e507c89a-8b32-4642-b30e-1b9e86d7b54d"
      },
      "outputs": [
        {
          "output_type": "stream",
          "name": "stdout",
          "text": [
            "011000"
          ]
        }
      ],
      "source": [
        "# decimal to binary example\n",
        "\n",
        "def DecimaltoBinary(num):\n",
        "  if num >= 1:\n",
        "    DecimaltoBinary(num // 2)\n",
        "  print (num % 2, end = '')\n",
        "\n",
        "value = 24\n",
        "DecimaltoBinary(value)\n",
        "print('')\n",
        "\n",
        "\n",
        "\n",
        "\n"
      ]
    }
  ]
}